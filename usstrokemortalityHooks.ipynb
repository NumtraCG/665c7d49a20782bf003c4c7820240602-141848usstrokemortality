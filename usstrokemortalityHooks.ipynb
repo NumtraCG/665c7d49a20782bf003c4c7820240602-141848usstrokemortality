{
 "cells": [
  {
   "cell_type": "markdown",
   "id": "878473f0",
   "metadata": {},
   "source": [
    "***EXTENSIONS FOR usstrokemortality PIPELINE YOU CAN EDIT THESE EXTENSIONS***"
   ]
  },
  {
   "cell_type": "markdown",
   "id": "2ddf09e5",
   "metadata": {},
   "source": [
    "***EXTENSIONS FOR SOURCE STAGE***"
   ]
  },
  {
   "cell_type": "code",
   "execution_count": null,
   "id": "c94ede47",
   "metadata": {},
   "outputs": [],
   "source": [
    "def sourcePreExecutionHook():\n",
    "\tprint('inside source pre execution hook')\n",
    "\n",
    "\n",
    "def sourcePostExecutionHook(data):\n",
    "\tprint('inside source post execution hook')\n",
    "\n",
    "\n"
   ]
  },
  {
   "cell_type": "markdown",
   "id": "1e404198",
   "metadata": {},
   "source": [
    "***EXTENSIONS FOR TRANSFORMATION STAGE***"
   ]
  },
  {
   "cell_type": "code",
   "execution_count": null,
   "id": "ccc2f858",
   "metadata": {},
   "outputs": [],
   "source": [
    "def transformationPreExecutionHook():\n",
    "\tprint('inside transformation pre execution hook')\n",
    "\n",
    "\n",
    "def transformationPostExecutionHook(data):\n",
    "\tprint('inside transformation post execution hook')\n",
    "\n",
    "\n"
   ]
  },
  {
   "cell_type": "markdown",
   "id": "23ecd1ec",
   "metadata": {},
   "source": [
    "***EXTENSIONS FOR ML STAGE***"
   ]
  },
  {
   "cell_type": "code",
   "execution_count": null,
   "id": "d276ad5d",
   "metadata": {},
   "outputs": [],
   "source": [
    "def mlPreExecutionHook():\n",
    "\tprint('inside ml pre execution hook')\n",
    "\n",
    "\n",
    "def mlPostExecutionHook(data):\n",
    "\tprint('inside ml post execution hook')\n",
    "\n",
    "\n"
   ]
  }
 ],
 "metadata": {},
 "nbformat": 4,
 "nbformat_minor": 5
}
